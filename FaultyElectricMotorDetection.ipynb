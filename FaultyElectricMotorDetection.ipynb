{
 "cells": [
  {
   "cell_type": "code",
   "execution_count": null,
   "id": "5ccd7dbd",
   "metadata": {},
   "outputs": [],
   "source": [
    "import os\n",
    "import math\n",
    "import librosa\n",
    "import numpy as np\n",
    "import tensorflow.keras as keras\n",
    "from sklearn.model_selection import train_test_split\n",
    "import tensorflow as tf\n",
    "from tensorflow import losses\n",
    "from tensorflow.keras.models import Sequential\n",
    "from tensorflow.keras.layers import Flatten,Dense,MaxPooling2D\n",
    "from scipy.stats import reciprocal\n",
    "from sklearn.model_selection import RandomizedSearchCV\n",
    "from sklearn.preprocessing import StandardScaler\n"
   ]
  },
  {
   "cell_type": "code",
   "execution_count": null,
   "id": "d4222cbd",
   "metadata": {},
   "outputs": [],
   "source": [
    "DATASET_PATH = # Enter File Path Here\n",
    "SAMPLE_RATE = 44100 # For this project sampling rate is 44100 Hz and 20 sec audio used. \n",
    "TRACK_DURATION = 20"
   ]
  },
  {
   "cell_type": "code",
   "execution_count": null,
   "id": "6c04f145",
   "metadata": {},
   "outputs": [],
   "source": [
    "data_test = {\n",
    "    \"mfcc\": [],\n",
    "    }\n",
    "data = {\n",
    "    \"labels\": [],\n",
    "    \"mfcc\": [],\n",
    "}"
   ]
  },
  {
   "cell_type": "code",
   "execution_count": null,
   "id": "77ecff09",
   "metadata": {},
   "outputs": [],
   "source": [
    "for dirpath, dirnames,filenames in os.walk(DATASET_PATH):\n",
    "    if dirpath is not DATASET_PATH:\n",
    "        \n",
    "        if dirpath ==: # Enter train data path\n",
    "            for f in filenames:\n",
    "                file_path = os.path.join(dirpath,f)\n",
    "                signal, sample_rate = librosa.load(file_path, sr = SAMPLE_RATE, duration = 20) \n",
    "                mfcc = librosa.feature.mfcc(signal,sample_rate, n_mfcc = 50,n_fft = 2048,hop_length = 1024)\n",
    "                mfcc = mfcc.T\n",
    "                \n",
    "                data[\"mfcc\"].append(mfcc)\n",
    "                \n",
    "                if f[0] == \"F\":\n",
    "                    data[\"labels\"].append(0)\n",
    "                elif f[0] == \"H\":\n",
    "                    data[\"labels\"].append(1)\n",
    "        elif dirpath == : # Enter test datapath\n",
    "            for f in filenames:\n",
    "                file_path = os.path.join(dirpath,f)\n",
    "                signal, sample_rate = librosa.load(file_path, sr = SAMPLE_RATE, duration = 20)    \n",
    "                mfcc = librosa.feature.mfcc(signal,sample_rate, n_mfcc = 50,n_fft = 2048,hop_length = 1024)\n",
    "                mfcc = mfcc.T\n",
    "                data_test[\"mfcc\"].append(mfcc)\n",
    "                        \n",
    "                        \n",
    "            \n",
    "        "
   ]
  },
  {
   "cell_type": "code",
   "execution_count": null,
   "id": "b15fe0ec",
   "metadata": {},
   "outputs": [],
   "source": [
    "mfcc_train = np.array(data[\"mfcc\"])\n",
    "y = np.array(data[\"labels\"])\n",
    "mfcc_test = np.array(data_test[\"mfcc\"])"
   ]
  },
  {
   "cell_type": "code",
   "execution_count": null,
   "id": "622a8ff7",
   "metadata": {},
   "outputs": [],
   "source": [
    "scalers = {} # Scaling Train and Test Data\n",
    "scalers1 = {}\n",
    "\n",
    "for i in range(mfcc_train.shape[1]):\n",
    "    scalers[i] = StandardScaler()\n",
    "    mfcc_train[:,i,:] = scalers[i].fit_transform(mfcc_train[:, i, :])\n",
    "for i in range(mfcc_test.shape[1]):\n",
    "    mfcc_test[:, i, :] = scalers[i].transform(mfcc_test[:, i, :])\n",
    "\n",
    "for i in range(mfcc_train.shape[2]):\n",
    "    scalers1[i] = StandardScaler()\n",
    "    mfcc_train[:,:,i] = scalers1[i].fit_transform(mfcc_train[:, :, i])\n",
    "for i in range(mfcc_test.shape[2]):\n",
    "    mfcc_test[:, :, i] = scalers1[i].transform(mfcc_test[:, :, i])\n",
    "    "
   ]
  },
  {
   "cell_type": "code",
   "execution_count": null,
   "id": "48259e94",
   "metadata": {},
   "outputs": [],
   "source": [
    "mfcc_train = mfcc_train[..., np.newaxis] # Add new axis to apply 2-D CNN\n",
    "mfcc_test = mfcc_test[..., np.newaxis]"
   ]
  },
  {
   "cell_type": "code",
   "execution_count": null,
   "id": "8d6ec543",
   "metadata": {},
   "outputs": [],
   "source": [
    "mfcc_train,mfcc_valid,y_train,y_valid=train_test_split(mfcc_train,y,test_size = 0.2,shuffle = True)"
   ]
  },
  {
   "cell_type": "code",
   "execution_count": null,
   "id": "845edfc7",
   "metadata": {},
   "outputs": [],
   "source": [
    "optimizer = keras.optimizers.SGD(lr = 0.163430258482965 )"
   ]
  },
  {
   "cell_type": "code",
   "execution_count": null,
   "id": "cf227225",
   "metadata": {},
   "outputs": [],
   "source": [
    "model = keras.Sequential()\n",
    "\n",
    "\n",
    "model.add(keras.layers.Conv2D(32, (3, 3), activation='relu', input_shape=(mfcc_train.shape[1],mfcc_train.shape[2],1)))\n",
    "model.add(keras.layers.MaxPooling2D((3, 3), strides=(2, 2), padding='same'))\n",
    "model.add(keras.layers.BatchNormalization())\n",
    "\n",
    "model.add(keras.layers.Conv2D(32, (3, 3), activation='relu'))\n",
    "model.add(keras.layers.MaxPooling2D((3, 3), strides=(2, 2), padding='same'))\n",
    "model.add(keras.layers.BatchNormalization())\n",
    "\n",
    "model.add(keras.layers.Conv2D(32, (2, 2), activation='relu'))\n",
    "model.add(keras.layers.MaxPooling2D((2, 2), strides=(2, 2), padding='same'))\n",
    "model.add(keras.layers.BatchNormalization())\n",
    "\n",
    "\n",
    "model.add(keras.layers.Flatten())\n",
    "model.add(keras.layers.Dense(128, activation='relu'))\n",
    "model.add(keras.layers.Dense(128, activation='relu'))\n",
    "\n",
    "model.add(keras.layers.Dense(1, activation='sigmoid'))"
   ]
  },
  {
   "cell_type": "code",
   "execution_count": null,
   "id": "76158eba",
   "metadata": {},
   "outputs": [],
   "source": [
    "model.compile(optimizer=optimizer,\n",
    "                  loss=tf.keras.losses.BinaryCrossentropy(from_logits=True))"
   ]
  },
  {
   "cell_type": "code",
   "execution_count": null,
   "id": "402b917f",
   "metadata": {},
   "outputs": [],
   "source": [
    "# Since it is cnn long training needed to increase accuracy.\n",
    "history = model.fit(mfcc_train, y_train,batch_size=32, epochs=2000,validation_data =[mfcc_valid,y_valid] ,callbacks = [keras.callbacks.EarlyStopping(patience = 100)])"
   ]
  },
  {
   "cell_type": "code",
   "execution_count": null,
   "id": "8fab62c6",
   "metadata": {},
   "outputs": [],
   "source": [
    "y_pred = model.predict(mfcc_test)"
   ]
  },
  {
   "cell_type": "code",
   "execution_count": null,
   "id": "f252c986",
   "metadata": {},
   "outputs": [],
   "source": [
    "np.round(y_pred)"
   ]
  },
  {
   "cell_type": "code",
   "execution_count": null,
   "id": "64027966",
   "metadata": {},
   "outputs": [],
   "source": [
    "# Trying other values which is given healty values outside train and test set\n",
    "\n",
    "data_path= # This is for test the result\n",
    "signal2, sample_rate = librosa.load(data_path, sr = 44100, duration = 20)\n",
    "mfccx = librosa.feature.mfcc(signal2,44100, n_mfcc = 50,n_fft = 2048,hop_length = 1024)\n",
    "mfccx = mfccx.T\n",
    "mfccx = mfccx[np.newaxis,...]\n",
    "for i in range(mfccx.shape[2]):\n",
    "    mfccx[:, :, i] = scalers1[i].transform(mfccx[:, :, i])\n",
    "for i in range(mfcc_test.shape[1]):\n",
    "    mfccx[:, i, :] = scalers[i].transform(mfccx[:, i, :])\n",
    "mfccx = mfccx[..., np.newaxis]"
   ]
  },
  {
   "cell_type": "code",
   "execution_count": null,
   "id": "d6a054e0",
   "metadata": {},
   "outputs": [],
   "source": [
    "y_pred = model.predict(mfccx)"
   ]
  },
  {
   "cell_type": "code",
   "execution_count": null,
   "id": "03a42153",
   "metadata": {},
   "outputs": [],
   "source": [
    "y_pred"
   ]
  },
  {
   "cell_type": "code",
   "execution_count": null,
   "id": "92d4928c",
   "metadata": {},
   "outputs": [],
   "source": [
    "data_path=# This is for test the result\n",
    "signal2, sample_rate = librosa.load(data_path, sr = 44100, duration = 20)\n",
    "mfccx2 = librosa.feature.mfcc(signal2,44100, n_mfcc = 50,n_fft = 2048,hop_length = 1024)\n",
    "mfccx2 = mfccx2.T\n",
    "mfccx2 = mfccx2[np.newaxis,...]\n",
    "for i in range(mfccx2.shape[2]):\n",
    "    mfccx2[:, :, i] = scalers1[i].transform(mfccx2[:, :, i])\n",
    "for i in range(mfcc_test.shape[1]):\n",
    "    mfccx2[:, i, :] = scalers[i].transform(mfccx2[:, i, :])\n",
    "mfccx2 = mfccx2[..., np.newaxis]\n"
   ]
  },
  {
   "cell_type": "code",
   "execution_count": null,
   "id": "dd80e840",
   "metadata": {},
   "outputs": [],
   "source": [
    "y_pred = model.predict(mfccx2)"
   ]
  },
  {
   "cell_type": "code",
   "execution_count": null,
   "id": "34e2d33f",
   "metadata": {},
   "outputs": [],
   "source": [
    "y_pred"
   ]
  },
  {
   "cell_type": "code",
   "execution_count": null,
   "id": "7a18f7f4",
   "metadata": {},
   "outputs": [],
   "source": []
  },
  {
   "cell_type": "code",
   "execution_count": null,
   "id": "5f654ebe",
   "metadata": {},
   "outputs": [],
   "source": [
    "# Determining neural network paramters with RandomSearch\n",
    "def build_model(n_hidden = 1,n_neurons = 30, learning_rate = 3e-3, input_shape = (mfcc_train.shape[1],mfcc_train.shape[2],1)):\n",
    "    model = keras.models.Sequential()\n",
    "    model.add(keras.layers.Conv2D(32, (3,3), activation='relu', input_shape=input_shape))\n",
    "    model.add(keras.layers.MaxPooling2D((3,3), strides=(2,2), padding='same'))\n",
    "    model.add(keras.layers.BatchNormalization())\n",
    "    \n",
    "    model.add(keras.layers.Conv2D(32, (3,3), activation='relu'))\n",
    "    model.add(keras.layers.MaxPooling2D((3,3), strides=(2,2), padding='same'))\n",
    "    model.add(keras.layers.BatchNormalization())\n",
    "    \n",
    "    model.add(keras.layers.Conv2D(32, (3,3), activation='relu'))\n",
    "    model.add(keras.layers.MaxPooling2D((3,3), strides=(2,2), padding='same'))\n",
    "    model.add(keras.layers.BatchNormalization())\n",
    "    \n",
    "    \n",
    "    model.add(keras.layers.Flatten())            \n",
    "    model.add(keras.layers.InputLayer())\n",
    "    for layer in range(n_hidden):\n",
    "        model.add(keras.layers.Dense(n_neurons,activation = \"relu\"))\n",
    "    model.add(keras.layers.Dense(1,activation = \"sigmoid\"))\n",
    "    optimizer = keras.optimizers.SGD(lr = learning_rate)\n",
    "    model.compile(loss = tf.keras.losses.BinaryCrossentropy(from_logits=True),optimizer = optimizer)\n",
    "    return model\n",
    "\n",
    "\n",
    "xxx = keras.wrappers.scikit_learn.KerasRegressor(build_model)\n",
    "\n",
    "param_distribs = {\n",
    "    \"n_hidden\":[1,2,3,4],\n",
    "    \"n_neurons\": np.arange(1,200),\n",
    "    \"learning_rate\": reciprocal(3e-3,3e-1),\n",
    "}\n",
    "\n",
    "rnd_search_cv = RandomizedSearchCV(xxx,param_distribs,n_iter = 20)\n",
    "rnd_search_cv.fit(mfcc_train,y_train,epochs = 100,batch_size = 32,validation_data =[mfcc_valid,y_valid] ,callbacks = [keras.callbacks.EarlyStopping(patience = 10)])"
   ]
  },
  {
   "cell_type": "code",
   "execution_count": null,
   "id": "7edd7287",
   "metadata": {},
   "outputs": [],
   "source": []
  },
  {
   "cell_type": "code",
   "execution_count": null,
   "id": "8be6267c",
   "metadata": {},
   "outputs": [],
   "source": []
  },
  {
   "cell_type": "code",
   "execution_count": null,
   "id": "ead0221d",
   "metadata": {},
   "outputs": [],
   "source": []
  }
 ],
 "metadata": {
  "kernelspec": {
   "display_name": "Python 3 (ipykernel)",
   "language": "python",
   "name": "python3"
  },
  "language_info": {
   "codemirror_mode": {
    "name": "ipython",
    "version": 3
   },
   "file_extension": ".py",
   "mimetype": "text/x-python",
   "name": "python",
   "nbconvert_exporter": "python",
   "pygments_lexer": "ipython3",
   "version": "3.7.15"
  }
 },
 "nbformat": 4,
 "nbformat_minor": 5
}
